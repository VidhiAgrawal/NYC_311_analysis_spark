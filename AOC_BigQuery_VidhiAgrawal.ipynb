{
 "cells": [
  {
   "cell_type": "markdown",
   "id": "d94d591a-b17f-482e-bf1e-bd60a901ac86",
   "metadata": {},
   "source": [
    "### Creating Pyspark Connection to BigQuery"
   ]
  },
  {
   "cell_type": "code",
   "execution_count": 1,
   "id": "579c8ed7-6a18-4511-9fe7-ad55879bd177",
   "metadata": {},
   "outputs": [],
   "source": [
    "from pyspark.sql import SparkSession\n",
    "from pyspark.sql.functions import col, current_date, datediff, expr\n",
    "from pyspark.sql.functions import avg, count\n",
    "from pyspark.sql import functions as F"
   ]
  },
  {
   "cell_type": "code",
   "execution_count": 2,
   "id": "fa1a5439-b8cd-4a0d-99c1-ceb279de523d",
   "metadata": {},
   "outputs": [
    {
     "name": "stderr",
     "output_type": "stream",
     "text": [
      "Warning: Ignoring non-Spark config property: credentialsFile\n"
     ]
    },
    {
     "name": "stdout",
     "output_type": "stream",
     "text": [
      ":: loading settings :: url = jar:file:/opt/homebrew/Cellar/apache-spark/3.5.2/libexec/jars/ivy-2.5.1.jar!/org/apache/ivy/core/settings/ivysettings.xml\n"
     ]
    },
    {
     "name": "stderr",
     "output_type": "stream",
     "text": [
      "Ivy Default Cache set to: /Users/vidhiagrawal/.ivy2/cache\n",
      "The jars for the packages stored in: /Users/vidhiagrawal/.ivy2/jars\n",
      "com.google.cloud.spark#spark-bigquery-with-dependencies_2.12 added as a dependency\n",
      ":: resolving dependencies :: org.apache.spark#spark-submit-parent-ceaee21f-6427-4596-8f55-3e89d787ec9a;1.0\n",
      "\tconfs: [default]\n",
      "\tfound com.google.cloud.spark#spark-bigquery-with-dependencies_2.12;0.29.0 in central\n",
      ":: resolution report :: resolve 137ms :: artifacts dl 3ms\n",
      "\t:: modules in use:\n",
      "\tcom.google.cloud.spark#spark-bigquery-with-dependencies_2.12;0.29.0 from central in [default]\n",
      "\t---------------------------------------------------------------------\n",
      "\t|                  |            modules            ||   artifacts   |\n",
      "\t|       conf       | number| search|dwnlded|evicted|| number|dwnlded|\n",
      "\t---------------------------------------------------------------------\n",
      "\t|      default     |   1   |   0   |   0   |   0   ||   1   |   0   |\n",
      "\t---------------------------------------------------------------------\n",
      ":: retrieving :: org.apache.spark#spark-submit-parent-ceaee21f-6427-4596-8f55-3e89d787ec9a\n",
      "\tconfs: [default]\n",
      "\t0 artifacts copied, 1 already retrieved (0kB/4ms)\n",
      "24/11/30 23:33:22 WARN NativeCodeLoader: Unable to load native-hadoop library for your platform... using builtin-java classes where applicable\n",
      "Setting default log level to \"WARN\".\n",
      "To adjust logging level use sc.setLogLevel(newLevel). For SparkR, use setLogLevel(newLevel).\n",
      "24/11/30 23:33:23 WARN Utils: Service 'SparkUI' could not bind on port 4040. Attempting port 4041.\n"
     ]
    }
   ],
   "source": [
    "# Step 1: Initialize Spark Session with BigQuery Connector\n",
    "spark = SparkSession.builder \\\n",
    "    .appName(\"BigQueryExample\") \\\n",
    "    .config(\"spark.jars.packages\", \"com.google.cloud.spark:spark-bigquery-with-dependencies_2.12:0.29.0\") \\\n",
    "    .config(\"credentialsFile\", \"vidhi-aoc-fall2024-a3a94564f449.json\") \\\n",
    "    .getOrCreate()"
   ]
  },
  {
   "cell_type": "markdown",
   "id": "24db5681-1d6d-4da2-b00b-e2cdfc2dd774",
   "metadata": {},
   "source": [
    "### Analysis on before and after 2020 datasets"
   ]
  },
  {
   "cell_type": "markdown",
   "id": "7b59020f-4856-4820-ad8d-b83b963c87d8",
   "metadata": {},
   "source": [
    "The split was performed in BigQuery itself and the SQL query for that is below\n",
    "\n",
    "<img src=\"query_split.png\">"
   ]
  },
  {
   "cell_type": "markdown",
   "id": "fed746d0-5cf1-4816-8964-c625af17687e",
   "metadata": {},
   "source": [
    "### Read the before and after datasets using a pyspark session connected to BigQuery"
   ]
  },
  {
   "cell_type": "markdown",
   "id": "75e4cbcd-e9b6-4786-8143-3f69e8a9a6dc",
   "metadata": {},
   "source": [
    "#### Project ID: vidhi-aoc-fall2024\n",
    "\n",
    "#### Dataset on BigQuery: `nyc_311_2024`\n",
    "\n",
    "#### Tables:\n",
    "1. **before_2020**  \n",
    "   Contains records prior to the year 2020.\n",
    "   \n",
    "2. **after_2020**  \n",
    "   Contains records from the year 2020 onwards."
   ]
  },
  {
   "cell_type": "code",
   "execution_count": 3,
   "id": "4169ddc3-ea5d-45a6-aaf1-c4a3941b5f0d",
   "metadata": {},
   "outputs": [],
   "source": [
    "service_requests_before2020 = spark.read \\\n",
    "    .format(\"bigquery\") \\\n",
    "    .option(\"table\", \"vidhi-aoc-fall2024.nyc_311_2024.before_2020\") \\\n",
    "    .option(\"parentProject\", \"vidhi-aoc-fall2024\")\\\n",
    "    .load()\n",
    "\n",
    "# Convert timestamps to UTC\n",
    "service_requests_before2020 = service_requests_before2020.withColumn(\n",
    "    \"Created Date\", F.to_utc_timestamp(\"Created Date\", \"America/New_York\")\n",
    ")"
   ]
  },
  {
   "cell_type": "code",
   "execution_count": 4,
   "id": "527fafd5-68f0-4d35-867b-25ce6d20d3a7",
   "metadata": {},
   "outputs": [],
   "source": [
    "service_requests_after2020 = spark.read \\\n",
    "    .format(\"bigquery\") \\\n",
    "    .option(\"table\", \"vidhi-aoc-fall2024.nyc_311_2024.after_2020\") \\\n",
    "    .option(\"parentProject\", \"vidhi-aoc-fall2024\")\\\n",
    "    .load()\n",
    "\n",
    "# Convert timestamps to UTC\n",
    "service_requests_after2020 = service_requests_after2020.withColumn(\n",
    "    \"Created Date\", F.to_utc_timestamp(\"Created Date\", \"America/New_York\")\n",
    ")"
   ]
  },
  {
   "cell_type": "code",
   "execution_count": 5,
   "id": "8a6f0d4f-489e-4896-9888-fec4cb55f104",
   "metadata": {},
   "outputs": [
    {
     "name": "stderr",
     "output_type": "stream",
     "text": [
      "[Stage 0:===================>                                       (1 + 2) / 3]\r"
     ]
    },
    {
     "name": "stdout",
     "output_type": "stream",
     "text": [
      "2020-01-01 00:00:00\n"
     ]
    },
    {
     "name": "stderr",
     "output_type": "stream",
     "text": [
      "                                                                                \r"
     ]
    }
   ],
   "source": [
    "# Get the minimum created date\n",
    "min_created_date = service_requests_after2020.agg(F.min(\"Created Date\")).collect()[0][0]\n",
    "\n",
    "# Print the minimum created date\n",
    "print(min_created_date)"
   ]
  },
  {
   "cell_type": "markdown",
   "id": "695f2590-d1e9-41c2-aebd-c3c42b030ab0",
   "metadata": {},
   "source": [
    "#### Number of complaints before and after 2020"
   ]
  },
  {
   "cell_type": "code",
   "execution_count": 6,
   "id": "50a3df62-9e99-42d2-8984-e0db768b714b",
   "metadata": {},
   "outputs": [
    {
     "name": "stdout",
     "output_type": "stream",
     "text": [
      "Before 2020 count: 5932384, After 2020 count: 10051476\n"
     ]
    }
   ],
   "source": [
    "count_a = service_requests_before2020.count()\n",
    "count_b = service_requests_after2020.count()\n",
    "print(f\"Before 2020 count: {count_a}, After 2020 count: {count_b}\")"
   ]
  },
  {
   "cell_type": "markdown",
   "id": "f3189692-cca2-4ed2-9d56-f7124f4c2966",
   "metadata": {},
   "source": [
    "#### Aggregate number of complaints and average processing days by borough (before and after 2020)"
   ]
  },
  {
   "cell_type": "code",
   "execution_count": 7,
   "id": "4e08af5a-b496-4c1c-94aa-925cd42f46c1",
   "metadata": {},
   "outputs": [],
   "source": [
    "before2020_agg = service_requests_before2020.groupBy(\"Borough\").agg(\n",
    "    avg(\"processing_days\").alias(\"avg_processing_days_before2020\"),\n",
    "    count(\"*\").alias(\"complaint_count_before2020\")\n",
    ")"
   ]
  },
  {
   "cell_type": "code",
   "execution_count": 8,
   "id": "70853257-6838-49ed-8752-ad6202334871",
   "metadata": {},
   "outputs": [],
   "source": [
    "after2020_agg = service_requests_after2020.groupBy(\"Borough\").agg(\n",
    "    avg(\"processing_days\").alias(\"avg_processing_days_after2020\"),\n",
    "    count(\"*\").alias(\"complaint_count_after2020\")\n",
    ")"
   ]
  },
  {
   "cell_type": "code",
   "execution_count": 9,
   "id": "84a25124-a4cb-492f-a2a5-90be216ffb3d",
   "metadata": {},
   "outputs": [
    {
     "name": "stderr",
     "output_type": "stream",
     "text": [
      "                                                                                \r"
     ]
    },
    {
     "name": "stdout",
     "output_type": "stream",
     "text": [
      "+-------------+------------------------------+--------------------------+\n",
      "|      Borough|avg_processing_days_before2020|complaint_count_before2020|\n",
      "+-------------+------------------------------+--------------------------+\n",
      "|       QUEENS|             13.54015073870488|                   1510949|\n",
      "|     BROOKLYN|            16.592251835557583|                   1939465|\n",
      "|        BRONX|            11.877336040316827|                   1056270|\n",
      "|    MANHATTAN|            15.450474049701322|                   1083389|\n",
      "|STATEN ISLAND|             13.44051130485959|                    342311|\n",
      "+-------------+------------------------------+--------------------------+\n",
      "\n"
     ]
    }
   ],
   "source": [
    "before2020_agg.show()"
   ]
  },
  {
   "cell_type": "code",
   "execution_count": 10,
   "id": "d56da50a-e8de-460b-bdb1-fd271e3e4e56",
   "metadata": {},
   "outputs": [
    {
     "name": "stderr",
     "output_type": "stream",
     "text": [
      "[Stage 12:================================================>         (5 + 1) / 6]\r"
     ]
    },
    {
     "name": "stdout",
     "output_type": "stream",
     "text": [
      "+-------------+-----------------------------+-------------------------+\n",
      "|      Borough|avg_processing_days_after2020|complaint_count_after2020|\n",
      "+-------------+-----------------------------+-------------------------+\n",
      "|       QUEENS|             8.53353551753678|                  2453187|\n",
      "|     BROOKLYN|            9.949384285441289|                  3071450|\n",
      "|        BRONX|            6.542165647272393|                  2173370|\n",
      "|    MANHATTAN|             9.05541996137058|                  1898533|\n",
      "|STATEN ISLAND|            9.450981645937885|                   454936|\n",
      "+-------------+-----------------------------+-------------------------+\n",
      "\n"
     ]
    },
    {
     "name": "stderr",
     "output_type": "stream",
     "text": [
      "                                                                                \r"
     ]
    }
   ],
   "source": [
    "after2020_agg.show()"
   ]
  },
  {
   "cell_type": "markdown",
   "id": "a535ba41-0245-47f6-b9f2-abfe2723b183",
   "metadata": {},
   "source": [
    "#### Join the before and after 2020 datasets on Borough to analyse growth of complaints and change in average processing time"
   ]
  },
  {
   "cell_type": "code",
   "execution_count": 11,
   "id": "a68ae9f3-0651-4cf3-aee5-9363243bc66b",
   "metadata": {},
   "outputs": [],
   "source": [
    "joined_df = before2020_agg.join(after2020_agg, on=\"Borough\", how=\"inner\")"
   ]
  },
  {
   "cell_type": "code",
   "execution_count": 12,
   "id": "366ba5eb-7b31-49f4-bc51-3e7001aacfe3",
   "metadata": {},
   "outputs": [
    {
     "name": "stderr",
     "output_type": "stream",
     "text": [
      "[Stage 16:================================================>         (5 + 1) / 6]\r"
     ]
    },
    {
     "name": "stdout",
     "output_type": "stream",
     "text": [
      "+-------------+------------------------------+--------------------------+-----------------------------+-------------------------+\n",
      "|      Borough|avg_processing_days_before2020|complaint_count_before2020|avg_processing_days_after2020|complaint_count_after2020|\n",
      "+-------------+------------------------------+--------------------------+-----------------------------+-------------------------+\n",
      "|       QUEENS|             13.54015073870489|                   1510949|            8.533535517536855|                  2453187|\n",
      "|     BROOKLYN|             16.59225183555784|                   1939465|            9.949384285441207|                  3071450|\n",
      "|        BRONX|            11.877336040316937|                   1056270|            6.542165647272403|                  2173370|\n",
      "|    MANHATTAN|            15.450474049701052|                   1083389|            9.055419961370687|                  1898533|\n",
      "|STATEN ISLAND|             13.44051130485955|                    342311|            9.450981645937881|                   454936|\n",
      "+-------------+------------------------------+--------------------------+-----------------------------+-------------------------+\n",
      "\n"
     ]
    },
    {
     "name": "stderr",
     "output_type": "stream",
     "text": [
      "                                                                                \r"
     ]
    }
   ],
   "source": [
    "joined_df.show()"
   ]
  },
  {
   "cell_type": "markdown",
   "id": "4d29208d-8a17-4e68-bf9e-e7d693483bbc",
   "metadata": {},
   "source": [
    "#### Analysis of Processing Time"
   ]
  },
  {
   "cell_type": "code",
   "execution_count": 13,
   "id": "f797cb6d-5e2b-4e4f-b443-1999c3e504b0",
   "metadata": {},
   "outputs": [
    {
     "name": "stderr",
     "output_type": "stream",
     "text": [
      "[Stage 22:================================================>         (5 + 1) / 6]\r"
     ]
    },
    {
     "name": "stdout",
     "output_type": "stream",
     "text": [
      "+-------------+------------------------------+--------------------------+-----------------------------+-------------------------+--------------------+\n",
      "|      Borough|avg_processing_days_before2020|complaint_count_before2020|avg_processing_days_after2020|complaint_count_after2020|processing_days_diff|\n",
      "+-------------+------------------------------+--------------------------+-----------------------------+-------------------------+--------------------+\n",
      "|       QUEENS|            13.540150738704885|                   1510949|            8.533535517536835|                  2453187|  -5.006615221168049|\n",
      "|     BROOKLYN|            16.592251835557576|                   1939465|            9.949384285441214|                  3071450|  -6.642867550116362|\n",
      "|        BRONX|            11.877336040316901|                   1056270|            6.542165647272349|                  2173370|  -5.335170393044552|\n",
      "|    MANHATTAN|            15.450474049701121|                   1083389|            9.055419961370609|                  1898533|  -6.395054088330513|\n",
      "|STATEN ISLAND|            13.440511304859594|                    342311|            9.450981645937881|                   454936|  -3.989529658921713|\n",
      "+-------------+------------------------------+--------------------------+-----------------------------+-------------------------+--------------------+\n",
      "\n"
     ]
    },
    {
     "name": "stderr",
     "output_type": "stream",
     "text": [
      "                                                                                \r"
     ]
    }
   ],
   "source": [
    "processed_df =joined_df.withColumn(\n",
    "    \"processing_days_diff\",\n",
    "    joined_df[\"avg_processing_days_after2020\"] - joined_df[\"avg_processing_days_before2020\"]\n",
    ")\n",
    "processed_df.show()"
   ]
  },
  {
   "cell_type": "markdown",
   "id": "1a177607-78a3-424e-a3fd-a52233028fca",
   "metadata": {},
   "source": [
    "#### Analysis of #complaints"
   ]
  },
  {
   "cell_type": "code",
   "execution_count": 14,
   "id": "8902f8a6-f693-4c53-97c8-f33e2fcdb9e7",
   "metadata": {},
   "outputs": [
    {
     "name": "stderr",
     "output_type": "stream",
     "text": [
      "[Stage 28:================================================>         (5 + 1) / 6]\r"
     ]
    },
    {
     "name": "stdout",
     "output_type": "stream",
     "text": [
      "+-------------+------------------------------+--------------------------+-----------------------------+-------------------------+--------------------+------------------+\n",
      "|      Borough|avg_processing_days_before2020|complaint_count_before2020|avg_processing_days_after2020|complaint_count_after2020|processing_days_diff|  complaint_growth|\n",
      "+-------------+------------------------------+--------------------------+-----------------------------+-------------------------+--------------------+------------------+\n",
      "|        BRONX|             11.87733604031673|                   1056270|            6.542165647272423|                  2173370|  -5.335170393044306|105.75894420934043|\n",
      "|    MANHATTAN|            15.450474049701153|                   1083389|            9.055419961370644|                  1898533|  -6.395054088330509| 75.24019534996201|\n",
      "|       QUEENS|            13.540150738704877|                   1510949|            8.533535517536905|                  2453187|  -5.006615221167973|62.360675310682225|\n",
      "|     BROOKLYN|            16.592251835557555|                   1939465|            9.949384285441306|                  3071450|  -6.642867550116248|58.365838001716966|\n",
      "|STATEN ISLAND|            13.440511304859632|                    342311|            9.450981645937874|                   454936| -3.9895296589217573| 32.90136746993231|\n",
      "+-------------+------------------------------+--------------------------+-----------------------------+-------------------------+--------------------+------------------+\n",
      "\n"
     ]
    },
    {
     "name": "stderr",
     "output_type": "stream",
     "text": [
      "                                                                                \r"
     ]
    }
   ],
   "source": [
    "# Sort by complaint_growth in descending order\n",
    "sorted_df = processed_df.withColumn(\n",
    "    \"complaint_growth\",\n",
    "    (joined_df[\"complaint_count_after2020\"] - joined_df[\"complaint_count_before2020\"]) / joined_df[\"complaint_count_before2020\"] * 100\n",
    ").orderBy(\"complaint_growth\", ascending=False)\n",
    "\n",
    "# Show the sorted results\n",
    "sorted_df.show()\n"
   ]
  },
  {
   "cell_type": "markdown",
   "id": "e5b1cece-3210-4ff9-99a4-281ed99404a0",
   "metadata": {},
   "source": [
    "#### Aggregate number of complaints and average processing days by borough and agency (before and after 2020)"
   ]
  },
  {
   "cell_type": "code",
   "execution_count": 15,
   "id": "d8480642-4b6c-4262-952c-3fd3c54ad1c9",
   "metadata": {},
   "outputs": [],
   "source": [
    "before2020_agg_agency = service_requests_before2020.groupBy(\"Borough\",\"Agency\").agg(\n",
    "    avg(\"processing_days\").alias(\"avg_processing_days_before2020\"),\n",
    "    count(\"*\").alias(\"complaint_count_before2020\")\n",
    ")"
   ]
  },
  {
   "cell_type": "code",
   "execution_count": 16,
   "id": "b08cb6d4-43ec-4b0c-b9a2-a199fc55077e",
   "metadata": {},
   "outputs": [
    {
     "name": "stderr",
     "output_type": "stream",
     "text": [
      "[Stage 33:==============================================>           (4 + 1) / 5]\r"
     ]
    },
    {
     "name": "stdout",
     "output_type": "stream",
     "text": [
      "+-------------+------+------------------------------+--------------------------+\n",
      "|      Borough|Agency|avg_processing_days_before2020|complaint_count_before2020|\n",
      "+-------------+------+------------------------------+--------------------------+\n",
      "|STATEN ISLAND| DOITT|            19.474088059413578|                        24|\n",
      "|       QUEENS|  DFTA|             4.889141203703704|                         5|\n",
      "|STATEN ISLAND|   HPD|            15.793907895044375|                     17431|\n",
      "|STATEN ISLAND|  NYPD|            0.6162279925929801|                     86252|\n",
      "|       QUEENS|   DOE|            63.220868613110596|                      1204|\n",
      "|        BRONX|   DEP|            10.215803062992084|                     28351|\n",
      "|       QUEENS|   DEP|            14.261023905465263|                     49468|\n",
      "|        BRONX| DOHMH|            20.866281082071673|                     22648|\n",
      "|STATEN ISLAND|   DOT|             9.920756408358267|                     59381|\n",
      "|    MANHATTAN|   HPD|            17.855975129144166|                    237898|\n",
      "|       QUEENS| DOITT|            23.597473765432103|                        90|\n",
      "|    MANHATTAN| DOITT|            22.371494754728136|                       470|\n",
      "|       QUEENS| 3-1-1|          0.003423489278752...|                        19|\n",
      "|     BROOKLYN|   DOF|            17.597339688087068|                      3529|\n",
      "|        BRONX|  DCWP|             4.731871488395296|                      1058|\n",
      "|        BRONX|   DPR|               94.553908795047|                     17047|\n",
      "|     BROOKLYN|  DSNY|            15.444803704973143|                    397859|\n",
      "|       QUEENS|   DOB|             81.12012123102913|                     66812|\n",
      "|       QUEENS|  DCWP|             5.545588779225228|                      1676|\n",
      "|     BROOKLYN|   EDC|            210.89596229028186|                       585|\n",
      "+-------------+------+------------------------------+--------------------------+\n",
      "only showing top 20 rows\n",
      "\n"
     ]
    },
    {
     "name": "stderr",
     "output_type": "stream",
     "text": [
      "                                                                                \r"
     ]
    }
   ],
   "source": [
    "before2020_agg_agency.show()"
   ]
  },
  {
   "cell_type": "code",
   "execution_count": 17,
   "id": "1a71fd56-1764-42a8-a6a7-ecbe44b8f28c",
   "metadata": {},
   "outputs": [
    {
     "name": "stderr",
     "output_type": "stream",
     "text": [
      "                                                                                \r"
     ]
    },
    {
     "data": {
      "text/plain": [
       "86"
      ]
     },
     "execution_count": 17,
     "metadata": {},
     "output_type": "execute_result"
    }
   ],
   "source": [
    "before2020_agg_agency.count()"
   ]
  },
  {
   "cell_type": "code",
   "execution_count": 18,
   "id": "6e8ac0bd-5538-4e33-b78a-88959099192f",
   "metadata": {},
   "outputs": [],
   "source": [
    "after2020_agg_agency = service_requests_after2020.groupBy(\"Borough\",\"Agency\").agg(\n",
    "    avg(\"processing_days\").alias(\"avg_processing_days_after2020\"),\n",
    "    count(\"*\").alias(\"complaint_count_after2020\")\n",
    ")"
   ]
  },
  {
   "cell_type": "code",
   "execution_count": 19,
   "id": "4fbdf071-0f53-464c-bab7-596b41b18ba6",
   "metadata": {},
   "outputs": [
    {
     "name": "stderr",
     "output_type": "stream",
     "text": [
      "[Stage 42:=========================================>                (5 + 2) / 7]\r"
     ]
    },
    {
     "name": "stdout",
     "output_type": "stream",
     "text": [
      "+-------------+------+-----------------------------+-------------------------+\n",
      "|      Borough|Agency|avg_processing_days_after2020|complaint_count_after2020|\n",
      "+-------------+------+-----------------------------+-------------------------+\n",
      "|STATEN ISLAND| DOITT|           0.9155324074074073|                        1|\n",
      "|STATEN ISLAND|   HPD|           18.061472097383003|                    29538|\n",
      "|STATEN ISLAND|  NYPD|          0.04245495903336856|                   145039|\n",
      "|        BRONX|   DEP|            5.516337871912843|                    46042|\n",
      "|       QUEENS|   DOE|            64.60814712433577|                      927|\n",
      "|       QUEENS|   DEP|           5.5090216629315245|                    67031|\n",
      "|        BRONX| DOHMH|            4.437821328527361|                    27435|\n",
      "|STATEN ISLAND|   DOT|            7.159176534643879|                    52155|\n",
      "|    MANHATTAN|   HPD|            23.92223130865423|                   334296|\n",
      "|       QUEENS| DOITT|            34.55311790621266|                       31|\n",
      "|    MANHATTAN| DOITT|            30.28486936901789|                      178|\n",
      "|       QUEENS|   OSE|           12.926900302733266|                    13999|\n",
      "|        BRONX|  DCWP|            5.562878297818368|                     3285|\n",
      "|        BRONX|   DPR|            68.28869553162846|                    33079|\n",
      "|     BROOKLYN|  DSNY|           14.616467185042282|                   548938|\n",
      "|       QUEENS|   DOB|           52.673393689371444|                    58977|\n",
      "|       QUEENS|  DCWP|            5.957358187109335|                     4841|\n",
      "|    MANHATTAN|   OTI|             9.63168070734669|                       61|\n",
      "|     BROOKLYN|   EDC|           30.428220952807628|                      806|\n",
      "|    MANHATTAN|   OSE|            9.106879159359138|                    17169|\n",
      "+-------------+------+-----------------------------+-------------------------+\n",
      "only showing top 20 rows\n",
      "\n"
     ]
    },
    {
     "name": "stderr",
     "output_type": "stream",
     "text": [
      "                                                                                \r"
     ]
    }
   ],
   "source": [
    "after2020_agg_agency.show()"
   ]
  },
  {
   "cell_type": "markdown",
   "id": "b01b8ec4-573b-4c8d-82cb-60f4f77d9157",
   "metadata": {},
   "source": [
    "#### Top 10 Borough-Agency Combinations based on highest complaint growth"
   ]
  },
  {
   "cell_type": "code",
   "execution_count": 20,
   "id": "a784e994-5746-4a2e-a08f-ce8e0710fdfc",
   "metadata": {},
   "outputs": [
    {
     "name": "stderr",
     "output_type": "stream",
     "text": [
      "[Stage 46:=================================================>        (6 + 1) / 7]\r"
     ]
    },
    {
     "name": "stdout",
     "output_type": "stream",
     "text": [
      "+-------------+------+------------------------------+--------------------------+-----------------------------+-------------------------+------------------+\n",
      "|      Borough|Agency|avg_processing_days_before2020|complaint_count_before2020|avg_processing_days_after2020|complaint_count_after2020|  complaint_growth|\n",
      "+-------------+------+------------------------------+--------------------------+-----------------------------+-------------------------+------------------+\n",
      "|    MANHATTAN|   EDC|            103.24613298276445|                      1487|            35.65708864063096|                     8058| 441.8964357767317|\n",
      "|    MANHATTAN|  DCWP|             6.967478073559673|                      1440|           5.9754538853530414|                     4766|230.97222222222223|\n",
      "|STATEN ISLAND|   EDC|             367.9638917824074|                        20|            81.34959473204266|                       66|229.99999999999997|\n",
      "|        BRONX|  DCWP|             4.731871488395293|                      1058|            5.562878297818367|                     3285|210.49149338374292|\n",
      "|        BRONX|  NYPD|           0.36360813273406656|                    419680|          0.46439669756288543|                  1246344|196.97483797178802|\n",
      "|       QUEENS|  DCWP|             5.545588779225226|                      1676|            5.957358187109337|                     4841|188.84248210023867|\n",
      "|     BROOKLYN|  DCWP|            13.863680102026006|                      1914|            6.444684511929285|                     5233|173.40647857889238|\n",
      "|       QUEENS|   EDC|             80.93036412225243|                       615|            45.79437812584485|                     1644| 167.3170731707317|\n",
      "|       QUEENS|   DHS|            0.8171316691482102|                      2985|           0.8462321982515503|                     7683|157.38693467336685|\n",
      "|STATEN ISLAND|  DCWP|             5.038464417482617|                       261|            4.507776942168743|                      651|149.42528735632183|\n",
      "+-------------+------+------------------------------+--------------------------+-----------------------------+-------------------------+------------------+\n",
      "\n"
     ]
    },
    {
     "name": "stderr",
     "output_type": "stream",
     "text": [
      "                                                                                \r"
     ]
    }
   ],
   "source": [
    "# Join the two aggregated DataFrames on Borough and Agency\n",
    "joined_df_top10 = before2020_agg_agency.join(\n",
    "    after2020_agg_agency,\n",
    "    on=[\"Borough\", \"Agency\"],\n",
    "    how=\"inner\"\n",
    ")\n",
    "\n",
    "# Calculate complaint growth\n",
    "result_df = joined_df_top10.withColumn(\n",
    "    \"complaint_growth\",\n",
    "    expr(\"((complaint_count_after2020 - complaint_count_before2020) / complaint_count_before2020) * 100\")\n",
    ")\n",
    "\n",
    "# Sort by complaint growth in descending order and get the top 10\n",
    "top_10_df = result_df.orderBy(col(\"complaint_growth\").desc()).limit(10)\n",
    "\n",
    "# Show the top 10 results\n",
    "top_10_df.show()"
   ]
  },
  {
   "cell_type": "markdown",
   "id": "1020fa80-3b88-4c1d-aef5-925e3a548e2f",
   "metadata": {},
   "source": [
    "### Some more analysis on the after_2020 table"
   ]
  },
  {
   "cell_type": "code",
   "execution_count": 21,
   "id": "5967e3eb-711d-4af4-812a-7113532115b8",
   "metadata": {},
   "outputs": [
    {
     "name": "stderr",
     "output_type": "stream",
     "text": [
      "[Stage 51:=============================>                            (1 + 1) / 2]\r"
     ]
    },
    {
     "name": "stdout",
     "output_type": "stream",
     "text": [
      "+------+-------+\n",
      "|Agency|  count|\n",
      "+------+-------+\n",
      "|  NYPD|5291507|\n",
      "|   HPD|1541594|\n",
      "|  DSNY|1502197|\n",
      "|   DOT| 577090|\n",
      "|   DPR| 277027|\n",
      "|   DEP| 273339|\n",
      "|   DOB| 252887|\n",
      "| DOHMH| 176536|\n",
      "|   DHS|  67770|\n",
      "|   OSE|  57514|\n",
      "|  DCWP|  18776|\n",
      "|   EDC|  10636|\n",
      "|   DOE|   4197|\n",
      "| DOITT|    253|\n",
      "|   OTI|    138|\n",
      "|   TLC|     15|\n",
      "+------+-------+\n",
      "\n"
     ]
    },
    {
     "name": "stderr",
     "output_type": "stream",
     "text": [
      "                                                                                \r"
     ]
    }
   ],
   "source": [
    "service_requests_after2020.groupBy(\"Agency\").count().orderBy(\"count\", ascending=False).show()"
   ]
  },
  {
   "cell_type": "code",
   "execution_count": 22,
   "id": "cf52e63b-495c-4bd0-81b8-0357279c7909",
   "metadata": {},
   "outputs": [
    {
     "name": "stderr",
     "output_type": "stream",
     "text": [
      "[Stage 54:=================================================>        (6 + 1) / 7]\r"
     ]
    },
    {
     "name": "stdout",
     "output_type": "stream",
     "text": [
      "+--------------------+-------+\n",
      "|      Complaint Type|  count|\n",
      "+--------------------+-------+\n",
      "| Noise - Residential|1440602|\n",
      "|     Illegal Parking|1382263|\n",
      "|Noise - Street/Si...| 686214|\n",
      "|Request Large Bul...| 629177|\n",
      "|    Blocked Driveway| 590080|\n",
      "|      HEAT/HOT WATER| 408158|\n",
      "|UNSANITARY CONDITION| 281806|\n",
      "|     Noise - Vehicle| 279374|\n",
      "|  Noise - Commercial| 225929|\n",
      "|   Abandoned Vehicle| 207023|\n",
      "|    Street Condition| 179623|\n",
      "|       PAINT/PLASTER| 162216|\n",
      "|            PLUMBING| 154966|\n",
      "|   Derelict Vehicles| 154258|\n",
      "|Non-Emergency Pol...| 140298|\n",
      "|              Rodent| 131487|\n",
      "|Street Light Cond...| 128290|\n",
      "|   Missed Collection| 127539|\n",
      "|Traffic Signal Co...| 116399|\n",
      "|        Water System| 115506|\n",
      "+--------------------+-------+\n",
      "only showing top 20 rows\n",
      "\n"
     ]
    },
    {
     "name": "stderr",
     "output_type": "stream",
     "text": [
      "                                                                                \r"
     ]
    }
   ],
   "source": [
    "service_requests_after2020.groupBy(\"Complaint Type\").count().orderBy(\"count\", ascending=False).show()"
   ]
  },
  {
   "cell_type": "code",
   "execution_count": 23,
   "id": "652030ec-849c-4931-a85c-f77b8f959818",
   "metadata": {},
   "outputs": [
    {
     "name": "stderr",
     "output_type": "stream",
     "text": [
      "[Stage 57:>                                                         (0 + 3) / 3]\r"
     ]
    },
    {
     "name": "stdout",
     "output_type": "stream",
     "text": [
      "+----------------+------+\n",
      "|processing_month| count|\n",
      "+----------------+------+\n",
      "|         2023-12|184079|\n",
      "|         2023-11|203999|\n",
      "|         2023-10|234283|\n",
      "|         2023-09|229680|\n",
      "|         2023-08|228661|\n",
      "|         2023-07|236565|\n",
      "|         2023-06|217814|\n",
      "|         2023-05|224629|\n",
      "|         2023-04|195237|\n",
      "|         2023-03|194376|\n",
      "|         2023-02|171898|\n",
      "|         2023-01|189262|\n",
      "|         2022-12|196570|\n",
      "|         2022-11|188055|\n",
      "|         2022-10|205763|\n",
      "|         2022-09|224252|\n",
      "|         2022-08|220846|\n",
      "|         2022-07|249165|\n",
      "|         2022-06|223921|\n",
      "|         2022-05|228282|\n",
      "+----------------+------+\n",
      "only showing top 20 rows\n",
      "\n"
     ]
    },
    {
     "name": "stderr",
     "output_type": "stream",
     "text": [
      "                                                                                \r"
     ]
    }
   ],
   "source": [
    "from pyspark.sql.functions import to_date, date_format\n",
    "service_requests_after2020.withColumn(\"processing_month\", date_format(to_date(\"Created Date\"), \"yyyy-MM\"))\\\n",
    "  .groupBy(\"processing_month\").count().orderBy(\"processing_month\", ascending=False).show()"
   ]
  },
  {
   "cell_type": "code",
   "execution_count": 24,
   "id": "bb98eb62-c033-410d-8cdf-72cf295cf8d1",
   "metadata": {},
   "outputs": [
    {
     "name": "stderr",
     "output_type": "stream",
     "text": [
      "[Stage 60:===================================================>    (12 + 1) / 13]\r"
     ]
    },
    {
     "name": "stdout",
     "output_type": "stream",
     "text": [
      "+--------------------+--------------------+\n",
      "|         Agency Name|avg(processing_days)|\n",
      "+--------------------+--------------------+\n",
      "|Department of Edu...|   95.31747840443789|\n",
      "|Department of Par...|    90.3431843138967|\n",
      "|Economic Developm...|   37.19827892452091|\n",
      "|Department of Bui...|  32.970546762331196|\n",
      "|Department of Inf...|  31.713753934270237|\n",
      "|Department of Hou...|  16.390712650610364|\n",
      "|Office of Technol...|  15.011448604401505|\n",
      "|Department of Tra...|  12.664909431331106|\n",
      "|Mayor's Office of...|  10.992554893639417|\n",
      "|Department of San...|   10.91134681470338|\n",
      "|Taxi and Limousin...|   10.09120833333333|\n",
      "|Department of Hea...|   6.148156976480725|\n",
      "|Department of Con...|   5.978495752556452|\n",
      "|Department of Env...|   4.293030432516111|\n",
      "|Department of Hom...|  1.0419968665740762|\n",
      "|New York City Pol...| 0.18723763806575808|\n",
      "|Operations Unit -...| 0.08952160493827162|\n",
      "+--------------------+--------------------+\n",
      "\n"
     ]
    },
    {
     "name": "stderr",
     "output_type": "stream",
     "text": [
      "                                                                                \r"
     ]
    }
   ],
   "source": [
    "service_requests_after2020.groupBy(\"Agency Name\").agg(avg(\"processing_days\")).orderBy(\"avg(processing_days)\", ascending=False).show()"
   ]
  },
  {
   "cell_type": "code",
   "execution_count": 32,
   "id": "8e4389ff-691a-447d-9425-dc13082a9369",
   "metadata": {},
   "outputs": [
    {
     "name": "stderr",
     "output_type": "stream",
     "text": [
      "[Stage 84:===================================================>      (8 + 1) / 9]\r"
     ]
    },
    {
     "name": "stdout",
     "output_type": "stream",
     "text": [
      "+--------------------+--------------------+\n",
      "|      Complaint Type|avg(processing_days)|\n",
      "+--------------------+--------------------+\n",
      "|    New Tree Request|   287.8217444358062|\n",
      "|      Adopt-A-Basket|   278.2251015853983|\n",
      "|Miscellaneous Cat...|  266.86454644097216|\n",
      "|            Graffiti|  243.73774775872013|\n",
      "|Root/Sewer/Sidewa...|  224.17755051501481|\n",
      "|Construction Safe...|  183.91535622427983|\n",
      "|      Uprooted Stump|  146.74311871055139|\n",
      "|     Dead/Dying Tree|  131.72606601285554|\n",
      "|       Indoor Sewage|  125.33560726078848|\n",
      "| Bike Rack Condition|  102.58166190289472|\n",
      "| Illegal Tree Damage|   95.74960077185263|\n",
      "|  School Maintenance|    95.3174784044379|\n",
      "|       Lot Condition|   89.88191850466224|\n",
      "|Overgrown Tree/Br...|   89.87620531329415|\n",
      "|        Building/Use|    89.3272127032501|\n",
      "|Maintenance or Fa...|   88.17028874108188|\n",
      "| Wood Pile Remaining|   85.35386412781465|\n",
      "|      Borough Office|    79.4516217247833|\n",
      "|Executive Inspect...|   78.86093364197531|\n",
      "|Special Projects ...|   72.79539263981196|\n",
      "+--------------------+--------------------+\n",
      "only showing top 20 rows\n",
      "\n"
     ]
    },
    {
     "name": "stderr",
     "output_type": "stream",
     "text": [
      "                                                                                \r"
     ]
    }
   ],
   "source": [
    "service_requests_after2020.groupBy(\"Complaint Type\").agg(avg(\"processing_days\")).orderBy(\"avg(processing_days)\", ascending=False).show()"
   ]
  },
  {
   "cell_type": "code",
   "execution_count": 33,
   "id": "31858e62-df77-4c52-8236-7ffec7f0d8c7",
   "metadata": {},
   "outputs": [
    {
     "name": "stderr",
     "output_type": "stream",
     "text": [
      "[Stage 87:=============================================>            (7 + 2) / 9]\r"
     ]
    },
    {
     "name": "stdout",
     "output_type": "stream",
     "text": [
      "+--------------------+--------------------+\n",
      "|      Complaint Type|avg(processing_days)|\n",
      "+--------------------+--------------------+\n",
      "|Illegal Animal Ke...|                 0.0|\n",
      "| Illegal Animal Sold|                 0.0|\n",
      "|Animal Facility -...|                 0.0|\n",
      "|Unsanitary Animal...|                 0.0|\n",
      "|       Unleashed Dog|                 0.0|\n",
      "|            Pet Shop|                 0.0|\n",
      "|      Unlicensed Dog|                 0.0|\n",
      "|Forensic Engineering|                 0.0|\n",
      "|             Smoking|0.002442129629629...|\n",
      "|            ZTESTINT|0.003009259259259...|\n",
      "|Bike/Roller/Skate...|0.034743087848469904|\n",
      "|            Squeegee|0.036826820839978736|\n",
      "|Noise - House of ...|0.040802366606146445|\n",
      "|      Standing Water|0.046408137317228225|\n",
      "|       Drug Activity|0.046737708746402755|\n",
      "|             Traffic| 0.04978279452044906|\n",
      "|    Disorderly Youth| 0.05360315745242811|\n",
      "|Non-Emergency Pol...| 0.05459820247694987|\n",
      "| Urinating in Public| 0.05948634265076837|\n",
      "|Homeless Street C...|0.062176617161597406|\n",
      "+--------------------+--------------------+\n",
      "only showing top 20 rows\n",
      "\n"
     ]
    },
    {
     "name": "stderr",
     "output_type": "stream",
     "text": [
      "                                                                                \r"
     ]
    }
   ],
   "source": [
    "service_requests_after2020.groupBy(\"Complaint Type\").agg(avg(\"processing_days\")).orderBy(\"avg(processing_days)\", ascending=True).show()"
   ]
  },
  {
   "cell_type": "code",
   "execution_count": 25,
   "id": "403f78f3-b285-4cf2-9a6a-1692f5c3c14e",
   "metadata": {},
   "outputs": [
    {
     "name": "stderr",
     "output_type": "stream",
     "text": [
      "[Stage 63:===================================================>      (8 + 1) / 9]\r"
     ]
    },
    {
     "name": "stdout",
     "output_type": "stream",
     "text": [
      "+---------+--------------------+------+\n",
      "|  Borough|      Complaint Type| count|\n",
      "+---------+--------------------+------+\n",
      "|    BRONX| Noise - Residential|504727|\n",
      "| BROOKLYN|     Illegal Parking|497109|\n",
      "|   QUEENS|     Illegal Parking|424283|\n",
      "| BROOKLYN| Noise - Residential|353800|\n",
      "|   QUEENS| Noise - Residential|282934|\n",
      "|MANHATTAN| Noise - Residential|260701|\n",
      "|MANHATTAN|Noise - Street/Si...|239506|\n",
      "|   QUEENS|    Blocked Driveway|238163|\n",
      "| BROOKLYN|Request Large Bul...|235811|\n",
      "|    BRONX|     Illegal Parking|227422|\n",
      "| BROOKLYN|    Blocked Driveway|218024|\n",
      "|   QUEENS|Request Large Bul...|214972|\n",
      "|    BRONX|Noise - Street/Si...|204392|\n",
      "|MANHATTAN|     Illegal Parking|192998|\n",
      "| BROOKLYN|Noise - Street/Si...|151740|\n",
      "|    BRONX|      HEAT/HOT WATER|138348|\n",
      "| BROOKLYN|      HEAT/HOT WATER|113152|\n",
      "|    BRONX|    Blocked Driveway|102246|\n",
      "|    BRONX|UNSANITARY CONDITION| 94756|\n",
      "|MANHATTAN|      HEAT/HOT WATER| 94232|\n",
      "+---------+--------------------+------+\n",
      "only showing top 20 rows\n",
      "\n"
     ]
    },
    {
     "name": "stderr",
     "output_type": "stream",
     "text": [
      "                                                                                \r"
     ]
    }
   ],
   "source": [
    "service_requests_after2020.groupBy(\"Borough\", \"Complaint Type\").count().orderBy(\"count\", ascending=False).show()"
   ]
  },
  {
   "cell_type": "code",
   "execution_count": 26,
   "id": "53c5dc04-7ca7-41f1-8e03-44708219cfae",
   "metadata": {},
   "outputs": [
    {
     "name": "stderr",
     "output_type": "stream",
     "text": [
      "[Stage 66:===================================================>    (11 + 1) / 12]\r"
     ]
    },
    {
     "name": "stdout",
     "output_type": "stream",
     "text": [
      "+-------------+----+--------------------+------+\n",
      "|      Borough|year|      Complaint Type| count|\n",
      "+-------------+----+--------------------+------+\n",
      "|        BRONX|2020| Noise - Residential|150983|\n",
      "|        BRONX|2021| Noise - Residential|117010|\n",
      "|        BRONX|2022| Noise - Residential|161431|\n",
      "|        BRONX|2023| Noise - Residential| 75303|\n",
      "|     BROOKLYN|2020|Request Large Bul...|104345|\n",
      "|     BROOKLYN|2021|Request Large Bul...|113339|\n",
      "|     BROOKLYN|2022|     Illegal Parking|142507|\n",
      "|     BROOKLYN|2023|     Illegal Parking|180531|\n",
      "|    MANHATTAN|2020|Noise - Street/Si...| 73798|\n",
      "|    MANHATTAN|2021| Noise - Residential| 71715|\n",
      "|    MANHATTAN|2022| Noise - Residential| 60088|\n",
      "|    MANHATTAN|2023|     Illegal Parking| 65043|\n",
      "|       QUEENS|2020|Request Large Bul...| 96788|\n",
      "|       QUEENS|2021|Request Large Bul...|102918|\n",
      "|       QUEENS|2022|     Illegal Parking|121359|\n",
      "|       QUEENS|2023|     Illegal Parking|140214|\n",
      "|STATEN ISLAND|2020|Request Large Bul...| 24630|\n",
      "|STATEN ISLAND|2021|Request Large Bul...| 28462|\n",
      "|STATEN ISLAND|2022|     Illegal Parking| 10601|\n",
      "|STATEN ISLAND|2023|     Illegal Parking| 12561|\n",
      "+-------------+----+--------------------+------+\n",
      "\n"
     ]
    },
    {
     "name": "stderr",
     "output_type": "stream",
     "text": [
      "                                                                                \r"
     ]
    }
   ],
   "source": [
    "from pyspark.sql import functions as F\n",
    "from pyspark.sql.window import Window\n",
    "\n",
    "# Step 1: Extract the year from Created Date\n",
    "df_with_year = service_requests_after2020.withColumn(\"year\", F.year(\"Created Date\"))\n",
    "\n",
    "# df_after_2020 = df_with_year.filter(F.year(\"Created Date\") >= 2020)\n",
    "\n",
    "# Step 2: Group by Borough, year, and Complaint Type and count the complaints\n",
    "grouped_df = df_with_year.groupBy(\"Borough\", \"year\", \"Complaint Type\").count()\n",
    "\n",
    "# Step 3: Use a window function to get the highest count for each borough and year\n",
    "window_spec = Window.partitionBy(\"Borough\", \"year\").orderBy(F.desc(\"count\"))\n",
    "\n",
    "# Step 4: Get the highest complaint type per borough per year\n",
    "highest_complaints = grouped_df.withColumn(\"rank\", F.row_number().over(window_spec)) \\\n",
    "                               .filter(F.col(\"rank\") == 1) \\\n",
    "                               .drop(\"rank\")\n",
    "\n",
    "# Show the result\n",
    "highest_complaints.show()"
   ]
  },
  {
   "cell_type": "code",
   "execution_count": 28,
   "id": "6606ef15-e78d-4974-bbb5-4d3dfd9fb06d",
   "metadata": {},
   "outputs": [
    {
     "name": "stderr",
     "output_type": "stream",
     "text": [
      "[Stage 72:======================================>                   (2 + 1) / 3]\r"
     ]
    },
    {
     "name": "stdout",
     "output_type": "stream",
     "text": [
      "+----+-----+------+\n",
      "|year|month| count|\n",
      "+----+-----+------+\n",
      "|2020|    8|291142|\n",
      "|2021|    9|263636|\n",
      "|2022|    7|249165|\n",
      "|2023|    7|236565|\n",
      "+----+-----+------+\n",
      "\n"
     ]
    },
    {
     "name": "stderr",
     "output_type": "stream",
     "text": [
      "                                                                                \r"
     ]
    }
   ],
   "source": [
    "from pyspark.sql import functions as F\n",
    "from pyspark.sql.window import Window\n",
    "\n",
    "# Step 1: Extract the year and month from Created Date\n",
    "df_with_year_month = service_requests_after2020.withColumn(\"year\", F.year(\"Created Date\")) \\\n",
    "                                                .withColumn(\"month\", F.month(\"Created Date\"))\n",
    "# Step 2: Group by year and month, and count the complaints\n",
    "grouped_df = df_with_year_month.groupBy(\"year\", \"month\").count()\n",
    "\n",
    "# Step 3: Use a window function to get the month with the highest complaints for each year\n",
    "window_spec = Window.partitionBy(\"year\").orderBy(F.desc(\"count\"))\n",
    "\n",
    "# Step 4: Rank and filter for the month with the highest complaints for each year\n",
    "highest_complaints_month = grouped_df.withColumn(\"rank\", F.row_number().over(window_spec)) \\\n",
    "                                     .filter(F.col(\"rank\") == 1) \\\n",
    "                                     .drop(\"rank\")\n",
    "\n",
    "# Show the result\n",
    "highest_complaints_month.show()"
   ]
  },
  {
   "cell_type": "code",
   "execution_count": 29,
   "id": "a16aa7ea-1503-4ac9-9e57-4372a56a7a4d",
   "metadata": {},
   "outputs": [
    {
     "name": "stderr",
     "output_type": "stream",
     "text": [
      "                                                                                \r"
     ]
    }
   ],
   "source": [
    "from pyspark.sql import functions as F\n",
    "\n",
    "# Step 1: Extract the year from Created Date\n",
    "df_with_year = service_requests_after2020.withColumn(\"year\", F.year(\"Created Date\"))\n",
    "\n",
    "# Step 2: Group by year and borough and count complaints\n",
    "complaints_by_year_borough = df_with_year.groupBy(\"year\", \"Borough\").count()\n",
    "\n",
    "# Step 3: Convert the PySpark DataFrame to a Pandas DataFrame for plotting\n",
    "complaints_by_year_borough_pd = complaints_by_year_borough.toPandas()"
   ]
  },
  {
   "cell_type": "code",
   "execution_count": 30,
   "id": "c46f0172-06a3-45bc-b5b4-aa6ef2be8b42",
   "metadata": {},
   "outputs": [
    {
     "data": {
      "image/png": "[encoded data removed]",
      "text/plain": [
       "<Figure size 1000x600 with 1 Axes>"
      ]
     },
     "metadata": {},
     "output_type": "display_data"
    }
   ],
   "source": [
    "import matplotlib.pyplot as plt\n",
    "import seaborn as sns\n",
    "\n",
    "# Step 4: Plotting the trend of number of complaints by year for each borough\n",
    "plt.figure(figsize=(10, 6))\n",
    "sns.lineplot(data=complaints_by_year_borough_pd, x=\"year\", y=\"count\", hue=\"Borough\", marker=\"o\")\n",
    "\n",
    "# Step 5: Customize the plot\n",
    "plt.title(\"Trend of Complaints by Borough Each Year\")\n",
    "plt.xlabel(\"Year\")\n",
    "plt.ylabel(\"Number of Complaints\")\n",
    "plt.xticks(rotation=45)\n",
    "plt.legend(title=\"Borough\", bbox_to_anchor=(1.05, 1), loc=\"upper left\")\n",
    "\n",
    "# Show the plot\n",
    "plt.tight_layout()\n",
    "plt.show()"
   ]
  },
  {
   "cell_type": "code",
   "execution_count": 31,
   "id": "ee7aff88-f2e1-4693-b753-8dba3eb33a85",
   "metadata": {},
   "outputs": [
    {
     "name": "stderr",
     "output_type": "stream",
     "text": [
      "[Stage 81:===================================================>      (8 + 1) / 9]\r"
     ]
    },
    {
     "name": "stdout",
     "output_type": "stream",
     "text": [
      "+---------+--------------------+------+\n",
      "|  Borough|      Complaint Type| count|\n",
      "+---------+--------------------+------+\n",
      "|    BRONX| Noise - Residential|504727|\n",
      "| BROOKLYN|     Illegal Parking|497109|\n",
      "|   QUEENS|     Illegal Parking|424283|\n",
      "| BROOKLYN| Noise - Residential|353800|\n",
      "|   QUEENS| Noise - Residential|282934|\n",
      "|MANHATTAN| Noise - Residential|260701|\n",
      "|MANHATTAN|Noise - Street/Si...|239506|\n",
      "|   QUEENS|    Blocked Driveway|238163|\n",
      "| BROOKLYN|Request Large Bul...|235811|\n",
      "|    BRONX|     Illegal Parking|227422|\n",
      "| BROOKLYN|    Blocked Driveway|218024|\n",
      "|   QUEENS|Request Large Bul...|214972|\n",
      "|    BRONX|Noise - Street/Si...|204392|\n",
      "|MANHATTAN|     Illegal Parking|192998|\n",
      "| BROOKLYN|Noise - Street/Si...|151740|\n",
      "|    BRONX|      HEAT/HOT WATER|138348|\n",
      "| BROOKLYN|      HEAT/HOT WATER|113152|\n",
      "|    BRONX|    Blocked Driveway|102246|\n",
      "|    BRONX|UNSANITARY CONDITION| 94756|\n",
      "|MANHATTAN|      HEAT/HOT WATER| 94232|\n",
      "+---------+--------------------+------+\n",
      "only showing top 20 rows\n",
      "\n"
     ]
    },
    {
     "name": "stderr",
     "output_type": "stream",
     "text": [
      "                                                                                \r"
     ]
    }
   ],
   "source": [
    "df_with_year.groupBy(\"Borough\", \"Complaint Type\").count().orderBy(F.desc(\"count\")).show()"
   ]
  },
  {
   "cell_type": "code",
   "execution_count": 35,
   "id": "2fdb05bb-1546-4803-9318-b44788c35505",
   "metadata": {},
   "outputs": [
    {
     "name": "stderr",
     "output_type": "stream",
     "text": [
      "[Stage 93:======================================>                   (2 + 1) / 3]\r"
     ]
    },
    {
     "name": "stdout",
     "output_type": "stream",
     "text": [
      "+-----------+-------+\n",
      "|day_of_week|  count|\n",
      "+-----------+-------+\n",
      "|        Mon|1465753|\n",
      "|        Tue|1456601|\n",
      "|        Sun|1451394|\n",
      "|        Fri|1433428|\n",
      "|        Wed|1421663|\n",
      "|        Sat|1415572|\n",
      "|        Thu|1407065|\n",
      "+-----------+-------+\n",
      "\n"
     ]
    },
    {
     "name": "stderr",
     "output_type": "stream",
     "text": [
      "                                                                                \r"
     ]
    }
   ],
   "source": [
    "df_with_day = service_requests_after2020.withColumn(\n",
    "    \"day_of_week\", F.date_format(\"Created Date\", \"E\")\n",
    ")\n",
    "\n",
    "df_with_day.groupBy(\"day_of_week\").count().orderBy(\"count\", ascending=False).show()"
   ]
  },
  {
   "cell_type": "code",
   "execution_count": 37,
   "id": "1487d411-0bda-4159-8134-aca600e2d354",
   "metadata": {},
   "outputs": [
    {
     "name": "stderr",
     "output_type": "stream",
     "text": [
      "[Stage 99:======================================>                   (4 + 2) / 6]\r"
     ]
    },
    {
     "name": "stdout",
     "output_type": "stream",
     "text": [
      "+---------+------------+------+\n",
      "|  Borough|Incident Zip| count|\n",
      "+---------+------------+------+\n",
      "|    BRONX|       10466|292606|\n",
      "| BROOKLYN|       11226|157560|\n",
      "|   QUEENS|       11385|154029|\n",
      "|    BRONX|       10457|149133|\n",
      "|    BRONX|       10468|142353|\n",
      "|    BRONX|       10467|138143|\n",
      "| BROOKLYN|       11207|132455|\n",
      "|    BRONX|       10452|131775|\n",
      "|    BRONX|       10453|127185|\n",
      "| BROOKLYN|       11208|125036|\n",
      "|    BRONX|       10456|124284|\n",
      "|    BRONX|       10458|122376|\n",
      "| BROOKLYN|       11221|121438|\n",
      "|MANHATTAN|       10031|113459|\n",
      "|MANHATTAN|       10032|107029|\n",
      "|   QUEENS|       11368|101599|\n",
      "| BROOKLYN|       11216| 96539|\n",
      "| BROOKLYN|       11201| 94820|\n",
      "|    BRONX|       10472| 92540|\n",
      "|MANHATTAN|       10034| 91932|\n",
      "+---------+------------+------+\n",
      "only showing top 20 rows\n",
      "\n"
     ]
    },
    {
     "name": "stderr",
     "output_type": "stream",
     "text": [
      "                                                                                \r"
     ]
    }
   ],
   "source": [
    "service_requests_after2020.groupBy(\"Borough\",\"Incident Zip\").count().orderBy(F.desc(\"count\")).show()"
   ]
  },
  {
   "cell_type": "code",
   "execution_count": 40,
   "id": "3528fceb-648d-400f-989b-1a798dbc310f",
   "metadata": {},
   "outputs": [
    {
     "name": "stderr",
     "output_type": "stream",
     "text": [
      "[Stage 105:=============================================>           (4 + 1) / 5]\r"
     ]
    },
    {
     "name": "stdout",
     "output_type": "stream",
     "text": [
      "+----+-------------------+\n",
      "|year|avg_processing_time|\n",
      "+----+-------------------+\n",
      "|2020| 11.236168643928332|\n",
      "|2021|   9.50436519670955|\n",
      "|2022|  9.342910703242556|\n",
      "|2023|  4.686530186801328|\n",
      "+----+-------------------+\n",
      "\n"
     ]
    },
    {
     "name": "stderr",
     "output_type": "stream",
     "text": [
      "                                                                                \r"
     ]
    }
   ],
   "source": [
    "df_with_year.groupBy(\"year\").agg(\n",
    "    F.avg(\"processing_days\").alias(\"avg_processing_time\")\n",
    ").orderBy(\"year\").show()"
   ]
  },
  {
   "cell_type": "code",
   "execution_count": 41,
   "id": "62e1498d-d973-473b-b3ee-973439808be1",
   "metadata": {},
   "outputs": [
    {
     "name": "stderr",
     "output_type": "stream",
     "text": [
      "                                                                                \r"
     ]
    },
    {
     "data": {
      "image/png": "[encoded data removed]",
      "text/plain": [
       "<Figure size 800x500 with 1 Axes>"
      ]
     },
     "metadata": {},
     "output_type": "display_data"
    }
   ],
   "source": [
    "pandas_df = df_with_year.groupBy(\"year\").agg(\n",
    "    F.avg(\"processing_days\").alias(\"avg_processing_time\")\n",
    ").orderBy(\"year\").toPandas()\n",
    "\n",
    "# Plot the results\n",
    "pandas_df.plot(\n",
    "    x=\"year\", y=\"avg_processing_time\", kind=\"line\", marker='o', figsize=(8, 5),\n",
    "    title=\"Average Complaint Processing Time by Year\", legend=False, grid=True\n",
    ")\n",
    "\n",
    "plt.xlabel(\"Year\")\n",
    "plt.ylabel(\"Average Processing Time (days)\")\n",
    "plt.tight_layout()\n",
    "plt.show()"
   ]
  },
  {
   "cell_type": "code",
   "execution_count": 42,
   "id": "818849ed-121b-4e3f-bc7e-b2268ad67736",
   "metadata": {},
   "outputs": [
    {
     "name": "stderr",
     "output_type": "stream",
     "text": [
      "[Stage 116:===============================================>         (5 + 1) / 6]\r"
     ]
    },
    {
     "name": "stdout",
     "output_type": "stream",
     "text": [
      "+-------------+-------------------+\n",
      "|      Borough|avg_processing_time|\n",
      "+-------------+-------------------+\n",
      "|     BROOKLYN|   9.94938428544134|\n",
      "|STATEN ISLAND|  9.450981645937887|\n",
      "|    MANHATTAN|  9.055419961370625|\n",
      "|       QUEENS|  8.533535517536848|\n",
      "|        BRONX| 6.5421656472723795|\n",
      "+-------------+-------------------+\n",
      "\n"
     ]
    },
    {
     "name": "stderr",
     "output_type": "stream",
     "text": [
      "                                                                                \r"
     ]
    }
   ],
   "source": [
    "df_with_year.groupBy(\"Borough\").agg(\n",
    "    F.avg(\"processing_days\").alias(\"avg_processing_time\")\n",
    ").orderBy(F.desc(\"avg_processing_time\")).show()"
   ]
  },
  {
   "cell_type": "code",
   "execution_count": 44,
   "id": "18616221-cb8e-48ce-ad27-2a982ffdae2a",
   "metadata": {},
   "outputs": [
    {
     "name": "stderr",
     "output_type": "stream",
     "text": [
      "[Stage 122:>                                                        (0 + 3) / 3]\r"
     ]
    },
    {
     "name": "stdout",
     "output_type": "stream",
     "text": [
      "+----+------+\n",
      "|hour| count|\n",
      "+----+------+\n",
      "|  22|588645|\n",
      "|  10|562055|\n",
      "|   9|561576|\n",
      "|  12|561381|\n",
      "|  11|559350|\n",
      "|  21|538873|\n",
      "|  23|535637|\n",
      "|  14|528790|\n",
      "|  13|522592|\n",
      "|  15|506615|\n",
      "|  16|498622|\n",
      "|  20|482018|\n",
      "|  17|470410|\n",
      "|  19|461910|\n",
      "|   8|461664|\n",
      "|  18|461533|\n",
      "|   0|438490|\n",
      "|   7|297522|\n",
      "|   1|289671|\n",
      "|   2|190061|\n",
      "+----+------+\n",
      "only showing top 20 rows\n",
      "\n"
     ]
    },
    {
     "name": "stderr",
     "output_type": "stream",
     "text": [
      "                                                                                \r"
     ]
    }
   ],
   "source": [
    "df_with_hour = service_requests_after2020.withColumn(\"hour\", F.hour(\"Created Date\"))\n",
    "\n",
    "df_with_hour.groupBy(\"hour\").count().orderBy(\"count\",ascending=False).show()"
   ]
  },
  {
   "cell_type": "code",
   "execution_count": 45,
   "id": "36127363-be01-4858-98ff-48f0ffd5b5e8",
   "metadata": {},
   "outputs": [],
   "source": [
    "spark.stop()"
   ]
  },
  {
   "cell_type": "code",
   "execution_count": null,
   "id": "d22d380e-9433-497a-8840-57ef952bd670",
   "metadata": {},
   "outputs": [],
   "source": []
  }
 ],
 "metadata": {
  "kernelspec": {
   "display_name": "Python 3 (ipykernel)",
   "language": "python",
   "name": "python3"
  },
  "language_info": {
   "codemirror_mode": {
    "name": "ipython",
    "version": 3
   },
   "file_extension": ".py",
   "mimetype": "text/x-python",
   "name": "python",
   "nbconvert_exporter": "python",
   "pygments_lexer": "ipython3",
   "version": "3.12.4"
  }
 },
 "nbformat": 4,
 "nbformat_minor": 5
}
